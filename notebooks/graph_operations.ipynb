{
 "cells": [
  {
   "cell_type": "code",
   "execution_count": 1,
   "metadata": {},
   "outputs": [],
   "source": [
    "import pandas as pd\n",
    "from langchain_community.graphs.neo4j_graph import Neo4jGraph\n",
    "from langchain_community.chat_models import ChatOllama\n",
    "from langchain_experimental.graph_transformers import LLMGraphTransformer\n",
    "from langchain_core.documents import Document\n",
    "from langchain_groq import ChatGroq\n",
    "from neo4j import GraphDatabase\n",
    "from neo4j.exceptions import ClientError\n",
    "import os"
   ]
  },
  {
   "cell_type": "code",
   "execution_count": 2,
   "metadata": {},
   "outputs": [],
   "source": []
  },
  {
   "cell_type": "code",
   "execution_count": 3,
   "metadata": {},
   "outputs": [],
   "source": [
    "df_departments = pd.read_csv('../data/silver/cleaned_departments.csv')\n",
    "df_jobs = pd.read_csv('../data/silver/cleaned_jobs.csv')\n",
    "df_hired_employees = pd.read_csv('../data/silver/cleaned_hired_employees.csv')"
   ]
  },
  {
   "cell_type": "code",
   "execution_count": 4,
   "metadata": {},
   "outputs": [
    {
     "data": {
      "text/plain": [
       "employee_id       0\n",
       "name              0\n",
       "datetime         14\n",
       "department_id     0\n",
       "job_id            0\n",
       "year              0\n",
       "quarter          14\n",
       "dtype: int64"
      ]
     },
     "execution_count": 4,
     "metadata": {},
     "output_type": "execute_result"
    }
   ],
   "source": [
    "df_hired_employees.isnull().sum()"
   ]
  },
  {
   "cell_type": "code",
   "execution_count": 5,
   "metadata": {},
   "outputs": [],
   "source": [
    "fecha_dummy = pd.to_datetime('2000-01-01')"
   ]
  },
  {
   "cell_type": "code",
   "execution_count": 6,
   "metadata": {},
   "outputs": [],
   "source": [
    "df_hired_employees_c = df_hired_employees.fillna(fecha_dummy)"
   ]
  },
  {
   "cell_type": "code",
   "execution_count": 7,
   "metadata": {},
   "outputs": [
    {
     "data": {
      "text/plain": [
       "employee_id      0\n",
       "name             0\n",
       "datetime         0\n",
       "department_id    0\n",
       "job_id           0\n",
       "year             0\n",
       "quarter          0\n",
       "dtype: int64"
      ]
     },
     "execution_count": 7,
     "metadata": {},
     "output_type": "execute_result"
    }
   ],
   "source": [
    "df_hired_employees_c.isnull().sum()"
   ]
  },
  {
   "cell_type": "code",
   "execution_count": 8,
   "metadata": {},
   "outputs": [],
   "source": [
    "def extract_hired_employee(tx, employee_id, name, datetime, department_id, job_id, year, quarter):\n",
    "    try:\n",
    "        query = \"\"\"\n",
    "                MERGE (p:Person {id: $employee_id, name: $name, datetime: $datetime, year: $year, quarter: $quarter})\n",
    "                MERGE (d:Department {id: $department_id})\n",
    "                MERGE (j:Job {id: $job_id})\n",
    "                MERGE (p)-[:WORKS_AT]->(d)\n",
    "                MERGE (p)-[:HOLDS]->(j)\n",
    "                RETURN p.name AS name\n",
    "            \"\"\"\n",
    "        result = tx.run(query, \n",
    "                        employee_id=employee_id, \n",
    "                        name=name, \n",
    "                        datetime=datetime,\n",
    "                        department_id=department_id,\n",
    "                        job_id=job_id,\n",
    "                        year=year,\n",
    "                        quarter=quarter)\n",
    "        return result\n",
    "    except ClientError as e:\n",
    "        print(f\"Error: {e}\")"
   ]
  },
  {
   "cell_type": "code",
   "execution_count": 9,
   "metadata": {},
   "outputs": [],
   "source": [
    "def extract_department(tx, department_id, department_name):\n",
    "    try:\n",
    "        query = \"\"\"\n",
    "                MERGE (d:Department {id: $department_id, name: $department_name})\n",
    "                RETURN d.name AS department_name\n",
    "            \"\"\"\n",
    "        result = tx.run(query, \n",
    "                        department_id=department_id, \n",
    "                        department_name=department_name)\n",
    "        return result\n",
    "    except ClientError as e:\n",
    "        print(f\"Error: {e}\")"
   ]
  },
  {
   "cell_type": "code",
   "execution_count": 10,
   "metadata": {},
   "outputs": [],
   "source": [
    "def extract_job(tx, job_id, job_name):\n",
    "    try:\n",
    "        query = \"\"\"\n",
    "                MERGE (j:Job {id: $job_id, name: $job_name})\n",
    "                RETURN j.name AS job_name\n",
    "            \"\"\"\n",
    "        result = tx.run(query, \n",
    "                        job_id=job_id, \n",
    "                        job_name=job_name)\n",
    "        return result\n",
    "    except ClientError as e:\n",
    "        print(f\"Error: {e}\")"
   ]
  },
  {
   "cell_type": "code",
   "execution_count": 11,
   "metadata": {},
   "outputs": [],
   "source": [
    "def graph_session():\n",
    "    URI = os.environ[\"NEO4J_URI\"]\n",
    "    AUTH = (\"neo4j\", os.environ[\"NEO4J_PASS\"])\n",
    "\n",
    "    with GraphDatabase.driver(URI, auth=AUTH) as driver:    \n",
    "        return driver\n",
    "                \n",
    "driver = graph_session()\n",
    "driver = graph_session()\n",
    "session = driver.session(database=\"neo4j\")"
   ]
  },
  {
   "cell_type": "code",
   "execution_count": 12,
   "metadata": {},
   "outputs": [
    {
     "name": "stderr",
     "output_type": "stream",
     "text": [
      "C:\\Users\\jefai\\AppData\\Local\\Temp\\ipykernel_24820\\4068648257.py:2: DeprecationWarning: Using a driver after it has been closed is deprecated. Future versions of the driver will raise an error.\n",
      "  session = driver.session(database=\"neo4j\")\n"
     ]
    }
   ],
   "source": [
    "driver = graph_session()\n",
    "session = driver.session(database=\"neo4j\")\n"
   ]
  },
  {
   "cell_type": "code",
   "execution_count": 13,
   "metadata": {},
   "outputs": [
    {
     "data": {
      "text/html": [
       "<div>\n",
       "<style scoped>\n",
       "    .dataframe tbody tr th:only-of-type {\n",
       "        vertical-align: middle;\n",
       "    }\n",
       "\n",
       "    .dataframe tbody tr th {\n",
       "        vertical-align: top;\n",
       "    }\n",
       "\n",
       "    .dataframe thead th {\n",
       "        text-align: right;\n",
       "    }\n",
       "</style>\n",
       "<table border=\"1\" class=\"dataframe\">\n",
       "  <thead>\n",
       "    <tr style=\"text-align: right;\">\n",
       "      <th></th>\n",
       "      <th>department_id</th>\n",
       "      <th>department_name</th>\n",
       "    </tr>\n",
       "  </thead>\n",
       "  <tbody>\n",
       "    <tr>\n",
       "      <th>0</th>\n",
       "      <td>1</td>\n",
       "      <td>Product Management</td>\n",
       "    </tr>\n",
       "    <tr>\n",
       "      <th>1</th>\n",
       "      <td>2</td>\n",
       "      <td>Sales</td>\n",
       "    </tr>\n",
       "    <tr>\n",
       "      <th>2</th>\n",
       "      <td>3</td>\n",
       "      <td>Research and Development</td>\n",
       "    </tr>\n",
       "    <tr>\n",
       "      <th>3</th>\n",
       "      <td>4</td>\n",
       "      <td>Business Development</td>\n",
       "    </tr>\n",
       "    <tr>\n",
       "      <th>4</th>\n",
       "      <td>5</td>\n",
       "      <td>Engineering</td>\n",
       "    </tr>\n",
       "    <tr>\n",
       "      <th>5</th>\n",
       "      <td>6</td>\n",
       "      <td>Human Resources</td>\n",
       "    </tr>\n",
       "    <tr>\n",
       "      <th>6</th>\n",
       "      <td>7</td>\n",
       "      <td>Services</td>\n",
       "    </tr>\n",
       "    <tr>\n",
       "      <th>7</th>\n",
       "      <td>8</td>\n",
       "      <td>Support</td>\n",
       "    </tr>\n",
       "    <tr>\n",
       "      <th>8</th>\n",
       "      <td>9</td>\n",
       "      <td>Marketing</td>\n",
       "    </tr>\n",
       "    <tr>\n",
       "      <th>9</th>\n",
       "      <td>10</td>\n",
       "      <td>Training</td>\n",
       "    </tr>\n",
       "    <tr>\n",
       "      <th>10</th>\n",
       "      <td>11</td>\n",
       "      <td>Legal</td>\n",
       "    </tr>\n",
       "    <tr>\n",
       "      <th>11</th>\n",
       "      <td>12</td>\n",
       "      <td>Accounting</td>\n",
       "    </tr>\n",
       "  </tbody>\n",
       "</table>\n",
       "</div>"
      ],
      "text/plain": [
       "    department_id           department_name\n",
       "0               1        Product Management\n",
       "1               2                     Sales\n",
       "2               3  Research and Development\n",
       "3               4      Business Development\n",
       "4               5               Engineering\n",
       "5               6           Human Resources\n",
       "6               7                  Services\n",
       "7               8                   Support\n",
       "8               9                 Marketing\n",
       "9              10                  Training\n",
       "10             11                     Legal\n",
       "11             12                Accounting"
      ]
     },
     "execution_count": 13,
     "metadata": {},
     "output_type": "execute_result"
    }
   ],
   "source": [
    "df_departments"
   ]
  },
  {
   "cell_type": "code",
   "execution_count": 14,
   "metadata": {},
   "outputs": [
    {
     "data": {
      "text/plain": [
       "Index(['department_id', 'department_name'], dtype='object')"
      ]
     },
     "execution_count": 14,
     "metadata": {},
     "output_type": "execute_result"
    }
   ],
   "source": [
    "df_departments.columns"
   ]
  },
  {
   "cell_type": "code",
   "execution_count": 15,
   "metadata": {},
   "outputs": [
    {
     "data": {
      "text/plain": [
       "0     <neo4j._sync.work.result.Result object at 0x00...\n",
       "1     <neo4j._sync.work.result.Result object at 0x00...\n",
       "2     <neo4j._sync.work.result.Result object at 0x00...\n",
       "3     <neo4j._sync.work.result.Result object at 0x00...\n",
       "4     <neo4j._sync.work.result.Result object at 0x00...\n",
       "5     <neo4j._sync.work.result.Result object at 0x00...\n",
       "6     <neo4j._sync.work.result.Result object at 0x00...\n",
       "7     <neo4j._sync.work.result.Result object at 0x00...\n",
       "8     <neo4j._sync.work.result.Result object at 0x00...\n",
       "9     <neo4j._sync.work.result.Result object at 0x00...\n",
       "10    <neo4j._sync.work.result.Result object at 0x00...\n",
       "11    <neo4j._sync.work.result.Result object at 0x00...\n",
       "dtype: object"
      ]
     },
     "execution_count": 15,
     "metadata": {},
     "output_type": "execute_result"
    }
   ],
   "source": [
    "df_departments[[\"department_id\",\"department_name\"]].apply(\n",
    "    lambda\n",
    "        row: session.execute_write(extract_department,\n",
    "            row[\"department_id\"],\n",
    "            row[\"department_name\"],\n",
    "        ),\n",
    "    axis=1\n",
    ")"
   ]
  },
  {
   "cell_type": "code",
   "execution_count": 16,
   "metadata": {},
   "outputs": [
    {
     "data": {
      "text/plain": [
       "0      <neo4j._sync.work.result.Result object at 0x00...\n",
       "1      <neo4j._sync.work.result.Result object at 0x00...\n",
       "2      <neo4j._sync.work.result.Result object at 0x00...\n",
       "3      <neo4j._sync.work.result.Result object at 0x00...\n",
       "4      <neo4j._sync.work.result.Result object at 0x00...\n",
       "                             ...                        \n",
       "178    <neo4j._sync.work.result.Result object at 0x00...\n",
       "179    <neo4j._sync.work.result.Result object at 0x00...\n",
       "180    <neo4j._sync.work.result.Result object at 0x00...\n",
       "181    <neo4j._sync.work.result.Result object at 0x00...\n",
       "182    <neo4j._sync.work.result.Result object at 0x00...\n",
       "Length: 183, dtype: object"
      ]
     },
     "execution_count": 16,
     "metadata": {},
     "output_type": "execute_result"
    }
   ],
   "source": [
    "df_jobs.apply(\n",
    "    lambda row: session.execute_write(\n",
    "        extract_job, \n",
    "        row[\"job_id\"], \n",
    "        row[\"job_name\"]\n",
    "    ), \n",
    "    axis=1\n",
    ")"
   ]
  },
  {
   "cell_type": "code",
   "execution_count": 17,
   "metadata": {},
   "outputs": [
    {
     "data": {
      "text/plain": [
       "0       <neo4j._sync.work.result.Result object at 0x00...\n",
       "1       <neo4j._sync.work.result.Result object at 0x00...\n",
       "2       <neo4j._sync.work.result.Result object at 0x00...\n",
       "3       <neo4j._sync.work.result.Result object at 0x00...\n",
       "4       <neo4j._sync.work.result.Result object at 0x00...\n",
       "                              ...                        \n",
       "1994    <neo4j._sync.work.result.Result object at 0x00...\n",
       "1995    <neo4j._sync.work.result.Result object at 0x00...\n",
       "1996    <neo4j._sync.work.result.Result object at 0x00...\n",
       "1997    <neo4j._sync.work.result.Result object at 0x00...\n",
       "1998    <neo4j._sync.work.result.Result object at 0x00...\n",
       "Length: 1999, dtype: object"
      ]
     },
     "execution_count": 17,
     "metadata": {},
     "output_type": "execute_result"
    }
   ],
   "source": [
    "df_hired_employees_c.apply(\n",
    "    lambda row: session.execute_write(\n",
    "        extract_hired_employee, \n",
    "        row[\"employee_id\"], \n",
    "        row[\"name\"], \n",
    "        row[\"datetime\"],\n",
    "        row[\"department_id\"],\n",
    "        row[\"job_id\"],\n",
    "        row[\"year\"],\n",
    "        row[\"quarter\"]\n",
    "    ), \n",
    "    axis=1\n",
    ")"
   ]
  },
  {
   "cell_type": "code",
   "execution_count": 24,
   "metadata": {},
   "outputs": [],
   "source": [
    "def query_graph(query, parameters=None):\n",
    "    with driver.session() as session:\n",
    "        result = session.run(query, parameters)\n",
    "        return [record for record in result]"
   ]
  },
  {
   "cell_type": "code",
   "execution_count": 25,
   "metadata": {},
   "outputs": [],
   "source": [
    "cypher_query = \"\"\"\n",
    "MATCH (n)-[r]->(m)\n",
    "RETURN n, r, m\n",
    "\"\"\""
   ]
  },
  {
   "cell_type": "code",
   "execution_count": 29,
   "metadata": {},
   "outputs": [
    {
     "name": "stderr",
     "output_type": "stream",
     "text": [
      "C:\\Users\\jefai\\AppData\\Local\\Temp\\ipykernel_24820\\1453478616.py:2: DeprecationWarning: Using a driver after it has been closed is deprecated. Future versions of the driver will raise an error.\n",
      "  with driver.session() as session:\n"
     ]
    }
   ],
   "source": [
    "results = query_graph(query=cypher_query)\n",
    "#<Record n=<Node element_id='4:73106e34-1242-420e-abf7-397cef8aa1bd:194' labels=frozenset({'Person'}) properties={'year': 2021, 'name': 'Harold Vogt', 'id': 1, 'hire_date': '2021-11-07 02:48:42+00:00', 'quarter': '2021Q4'}> r=<Relationship element_id='5:73106e34-1242-420e-abf7-397cef8aa1bd:1152921504606847170' nodes=(<Node element_id='4:73106e34-1242-420e-abf7-397cef8aa1bd:194' labels=frozenset({'Person'}) properties={'year': 2021, 'name': 'Harold Vogt', 'id': 1, 'hire_date': '2021-11-07 02:48:42+00:00', 'quarter': '2021Q4'}>, <Node element_id='4:73106e34-1242-420e-abf7-397cef8aa1bd:0' labels=frozenset({'Department'}) properties={'name': 'Sales', 'id': 2}>) type='WORKS_AT' properties={}> m=<Node element_id='4:73106e34-1242-420e-abf7-397cef8aa1bd:0' labels=frozenset({'Department'}) properties={'name': 'Sales', 'id': 2}>>,\n"
   ]
  },
  {
   "cell_type": "code",
   "execution_count": 30,
   "metadata": {},
   "outputs": [],
   "source": [
    "from streamlit_agraph import agraph, Node, Edge, Config"
   ]
  },
  {
   "cell_type": "code",
   "execution_count": 31,
   "metadata": {},
   "outputs": [],
   "source": [
    "def populate_graph_from_neo4j(results):\n",
    "    nodes = []\n",
    "    edges = []\n",
    "    \n",
    "    # Procesamos los resultados del query (asumiendo que devuelve nodos y relaciones)\n",
    "    for record in results:\n",
    "        # Obtenemos información del nodo\n",
    "        if 'n' in record:  # 'n' sería el alias en el query de Cypher\n",
    "            node_id = record['n']['id']\n",
    "            label = record['n']['label']\n",
    "            size = record['n'].get('size', 25)  # Default a 25 si no existe\n",
    "            \n",
    "            # Creamos el nodo\n",
    "            nodes.append(Node(id=node_id, label=label, size=size))\n",
    "        \n",
    "        # Obtenemos información de la relación si existe\n",
    "        if 'r' in record:  # 'r' sería el alias de la relación en el query\n",
    "            source = record['r'].start_node['id']\n",
    "            target = record['r'].end_node['id']\n",
    "            label = record['r'].type\n",
    "            \n",
    "            # Creamos el edge (arista)\n",
    "            edges.append(Edge(source=source, target=target, label=label))\n",
    "    \n",
    "    \n",
    "    \n",
    "    # Configuración de visualización\n",
    "    config = Config(width=750,\n",
    "                    height=950,\n",
    "                    directed=True, \n",
    "                    physics=True, \n",
    "                    hierarchical=False)\n",
    "    \n",
    "    # Retornamos el grafo con nodos y edges\n",
    "    return agraph(nodes=nodes, edges=edges, config=config)\n",
    "\n",
    "return_value = populate_graph_from_neo4j(results)"
   ]
  },
  {
   "cell_type": "code",
   "execution_count": 34,
   "metadata": {},
   "outputs": [],
   "source": []
  },
  {
   "cell_type": "code",
   "execution_count": null,
   "metadata": {},
   "outputs": [],
   "source": []
  },
  {
   "cell_type": "code",
   "execution_count": null,
   "metadata": {},
   "outputs": [],
   "source": []
  },
  {
   "cell_type": "code",
   "execution_count": null,
   "metadata": {},
   "outputs": [],
   "source": []
  }
 ],
 "metadata": {
  "kernelspec": {
   "display_name": "env",
   "language": "python",
   "name": "python3"
  },
  "language_info": {
   "codemirror_mode": {
    "name": "ipython",
    "version": 3
   },
   "file_extension": ".py",
   "mimetype": "text/x-python",
   "name": "python",
   "nbconvert_exporter": "python",
   "pygments_lexer": "ipython3",
   "version": "3.12.5"
  }
 },
 "nbformat": 4,
 "nbformat_minor": 2
}
