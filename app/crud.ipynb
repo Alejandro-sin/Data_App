{
 "cells": [
  {
   "cell_type": "code",
   "execution_count": 1,
   "metadata": {},
   "outputs": [],
   "source": [
    "import pandas as pd\n",
    "import sqlite3\n",
    "from sqlalchemy import create_engine\n",
    "from utils.dbs_utils import save_dataframe_to_sql\n",
    "import os"
   ]
  },
  {
   "cell_type": "code",
   "execution_count": 2,
   "metadata": {},
   "outputs": [],
   "source": [
    "def create_engine_to_sqlite():\n",
    "    # Verificar si la carpeta 'db' existe, si no, crearla\n",
    "    db_folder = 'db'\n",
    "    if not os.path.exists(db_folder):\n",
    "        os.makedirs(db_folder)\n",
    "\n",
    "    # Ruta completa hacia la base de datos SQLite dentro de la carpeta 'db'\n",
    "    database_path = os.path.join(db_folder, 'sql_db.sqlite')\n",
    "\n",
    "    # Crear el motor de conexión\n",
    "    engine = create_engine(f'sqlite:///{database_path}')\n",
    "    return engine"
   ]
  },
  {
   "cell_type": "code",
   "execution_count": 3,
   "metadata": {},
   "outputs": [],
   "source": [
    "engine = create_engine_to_sqlite()"
   ]
  },
  {
   "cell_type": "code",
   "execution_count": 5,
   "metadata": {},
   "outputs": [],
   "source": [
    "tabls = [\"jobs\",\"departments\",\"hired_employees\"]\n",
    "\n",
    "for t in tabls:\n",
    "    if t == 'jobs':\n",
    "        columns = [\"id\", \"job\"]\n",
    "    elif t == \"departments\":\n",
    "        columns = [\"id\", \"department\"]\n",
    "    elif t == \"hired_employees\":\n",
    "        columns = [\"id\", \"name\", \"datetime\", \"department_id\", \"job_id\"]\n",
    "\n",
    "    df_= pd.read_csv(f\"../data/bronce/{t}.csv\", \n",
    "                      sep=\",\",\n",
    "                        header= None,\n",
    "                        names = columns,\n",
    "                        encoding=\"utf-8\",\n",
    "                        index_col=0\n",
    "                        )\n",
    "    \n",
    "    df_.to_sql(t, \n",
    "               con=engine, \n",
    "               if_exists='replace', \n",
    "               index=False)"
   ]
  },
  {
   "cell_type": "code",
   "execution_count": 6,
   "metadata": {},
   "outputs": [
    {
     "data": {
      "text/plain": [
       "[                             job\n",
       " 0            Marketing Assistant\n",
       " 1                       VP Sales\n",
       " 2             Biostatistician IV\n",
       " 3      Account Representative II\n",
       " 4                   VP Marketing\n",
       " ..                           ...\n",
       " 178         Software Engineer II\n",
       " 179              Statistician IV\n",
       " 180         Programmer Analyst I\n",
       " 181     Account Representative I\n",
       " 182  Administrative Assistant IV\n",
       " \n",
       " [183 rows x 1 columns],\n",
       "                   department\n",
       " 0         Product Management\n",
       " 1                      Sales\n",
       " 2   Research and Development\n",
       " 3       Business Development\n",
       " 4                Engineering\n",
       " 5            Human Resources\n",
       " 6                   Services\n",
       " 7                    Support\n",
       " 8                  Marketing\n",
       " 9                   Training\n",
       " 10                     Legal\n",
       " 11                Accounting,\n",
       "                     name              datetime  department_id  job_id\n",
       " 0            Harold Vogt  2021-11-07T02:48:42Z            2.0    96.0\n",
       " 1               Ty Hofer  2021-05-30T05:43:46Z            8.0     NaN\n",
       " 2            Lyman Hadye  2021-09-01T23:27:38Z            5.0    52.0\n",
       " 3          Lotti Crowthe  2021-10-01T13:04:21Z           12.0    71.0\n",
       " 4         Gretna Lording  2021-10-10T22:22:17Z            6.0    80.0\n",
       " ...                  ...                   ...            ...     ...\n",
       " 1994          Goran Yong  2021-08-22T21:57:53Z            2.0    83.0\n",
       " 1995  Cirstoforo Youings  2021-04-01T17:48:42Z            3.0    23.0\n",
       " 1996     Wilek Yurkevich  2021-05-04T12:19:50Z            2.0   132.0\n",
       " 1997          Jerry Yven  2021-10-03T14:12:50Z            7.0   100.0\n",
       " 1998       Jerri Zebedee  2022-01-18T10:47:37Z            8.0    80.0\n",
       " \n",
       " [1999 rows x 4 columns]]"
      ]
     },
     "execution_count": 6,
     "metadata": {},
     "output_type": "execute_result"
    }
   ],
   "source": [
    "tabls = [\"jobs\",\"departments\",\"hired_employees\"]\n",
    "\n",
    "df = []\n",
    "for t in tabls:\n",
    "    df_persisted = pd.read_sql(t, con=engine)\n",
    "    df.append(df_persisted)\n",
    "\n",
    "df"
   ]
  },
  {
   "cell_type": "code",
   "execution_count": 8,
   "metadata": {},
   "outputs": [],
   "source": [
    "table_name = \"test\"\n",
    "df[0].to_csv(f\"../data/bronce/{table_name}.csv\")"
   ]
  },
  {
   "cell_type": "code",
   "execution_count": 19,
   "metadata": {},
   "outputs": [
    {
     "data": {
      "text/html": [
       "<div>\n",
       "<style scoped>\n",
       "    .dataframe tbody tr th:only-of-type {\n",
       "        vertical-align: middle;\n",
       "    }\n",
       "\n",
       "    .dataframe tbody tr th {\n",
       "        vertical-align: top;\n",
       "    }\n",
       "\n",
       "    .dataframe thead th {\n",
       "        text-align: right;\n",
       "    }\n",
       "</style>\n",
       "<table border=\"1\" class=\"dataframe\">\n",
       "  <thead>\n",
       "    <tr style=\"text-align: right;\">\n",
       "      <th></th>\n",
       "      <th>name</th>\n",
       "      <th>datetime</th>\n",
       "      <th>department_id</th>\n",
       "      <th>job_id</th>\n",
       "    </tr>\n",
       "  </thead>\n",
       "  <tbody>\n",
       "    <tr>\n",
       "      <th>0</th>\n",
       "      <td>Harold Vogt</td>\n",
       "      <td>2021-11-07T02:48:42Z</td>\n",
       "      <td>2.0</td>\n",
       "      <td>96.0</td>\n",
       "    </tr>\n",
       "    <tr>\n",
       "      <th>1</th>\n",
       "      <td>Ty Hofer</td>\n",
       "      <td>2021-05-30T05:43:46Z</td>\n",
       "      <td>8.0</td>\n",
       "      <td>NaN</td>\n",
       "    </tr>\n",
       "    <tr>\n",
       "      <th>2</th>\n",
       "      <td>Lyman Hadye</td>\n",
       "      <td>2021-09-01T23:27:38Z</td>\n",
       "      <td>5.0</td>\n",
       "      <td>52.0</td>\n",
       "    </tr>\n",
       "    <tr>\n",
       "      <th>3</th>\n",
       "      <td>Lotti Crowthe</td>\n",
       "      <td>2021-10-01T13:04:21Z</td>\n",
       "      <td>12.0</td>\n",
       "      <td>71.0</td>\n",
       "    </tr>\n",
       "    <tr>\n",
       "      <th>4</th>\n",
       "      <td>Gretna Lording</td>\n",
       "      <td>2021-10-10T22:22:17Z</td>\n",
       "      <td>6.0</td>\n",
       "      <td>80.0</td>\n",
       "    </tr>\n",
       "    <tr>\n",
       "      <th>...</th>\n",
       "      <td>...</td>\n",
       "      <td>...</td>\n",
       "      <td>...</td>\n",
       "      <td>...</td>\n",
       "    </tr>\n",
       "    <tr>\n",
       "      <th>1994</th>\n",
       "      <td>Goran Yong</td>\n",
       "      <td>2021-08-22T21:57:53Z</td>\n",
       "      <td>2.0</td>\n",
       "      <td>83.0</td>\n",
       "    </tr>\n",
       "    <tr>\n",
       "      <th>1995</th>\n",
       "      <td>Cirstoforo Youings</td>\n",
       "      <td>2021-04-01T17:48:42Z</td>\n",
       "      <td>3.0</td>\n",
       "      <td>23.0</td>\n",
       "    </tr>\n",
       "    <tr>\n",
       "      <th>1996</th>\n",
       "      <td>Wilek Yurkevich</td>\n",
       "      <td>2021-05-04T12:19:50Z</td>\n",
       "      <td>2.0</td>\n",
       "      <td>132.0</td>\n",
       "    </tr>\n",
       "    <tr>\n",
       "      <th>1997</th>\n",
       "      <td>Jerry Yven</td>\n",
       "      <td>2021-10-03T14:12:50Z</td>\n",
       "      <td>7.0</td>\n",
       "      <td>100.0</td>\n",
       "    </tr>\n",
       "    <tr>\n",
       "      <th>1998</th>\n",
       "      <td>Jerri Zebedee</td>\n",
       "      <td>2022-01-18T10:47:37Z</td>\n",
       "      <td>8.0</td>\n",
       "      <td>80.0</td>\n",
       "    </tr>\n",
       "  </tbody>\n",
       "</table>\n",
       "<p>1999 rows × 4 columns</p>\n",
       "</div>"
      ],
      "text/plain": [
       "                    name              datetime  department_id  job_id\n",
       "0            Harold Vogt  2021-11-07T02:48:42Z            2.0    96.0\n",
       "1               Ty Hofer  2021-05-30T05:43:46Z            8.0     NaN\n",
       "2            Lyman Hadye  2021-09-01T23:27:38Z            5.0    52.0\n",
       "3          Lotti Crowthe  2021-10-01T13:04:21Z           12.0    71.0\n",
       "4         Gretna Lording  2021-10-10T22:22:17Z            6.0    80.0\n",
       "...                  ...                   ...            ...     ...\n",
       "1994          Goran Yong  2021-08-22T21:57:53Z            2.0    83.0\n",
       "1995  Cirstoforo Youings  2021-04-01T17:48:42Z            3.0    23.0\n",
       "1996     Wilek Yurkevich  2021-05-04T12:19:50Z            2.0   132.0\n",
       "1997          Jerry Yven  2021-10-03T14:12:50Z            7.0   100.0\n",
       "1998       Jerri Zebedee  2022-01-18T10:47:37Z            8.0    80.0\n",
       "\n",
       "[1999 rows x 4 columns]"
      ]
     },
     "execution_count": 19,
     "metadata": {},
     "output_type": "execute_result"
    }
   ],
   "source": [
    "df[0]"
   ]
  },
  {
   "cell_type": "markdown",
   "metadata": {},
   "source": []
  },
  {
   "cell_type": "code",
   "execution_count": 21,
   "metadata": {},
   "outputs": [],
   "source": [
    "\n",
    "def review_dataset(df):\n",
    "    print(\"=====================================\")\n",
    "    print(\"\\nNumber of missing values per column:\")\n",
    "    print(\"=====================================\")\n",
    "    print(df.isnull().sum())\n",
    "    print(\"=====================================\")\n",
    "    print(df.isna().sum())\n",
    "    print(\"=====================================\")\n",
    "    print(\"\\nDescriptive statistics:\")\n",
    "    print(\"=====================================\")\n",
    "    print(df.describe(include='all'))\n",
    "    print(\"=====================================\")\n",
    "    print(\"\\nNumber of duplicate rows:\")\n",
    "    print(\"=====================================\")\n",
    "    print(df.duplicated().sum())\n",
    "    print(\"=====================================\")\n",
    "    print(\"\\nData types of each column:\")\n",
    "    print(\"=====================================\")\n",
    "    print(df.dtypes)\n",
    "    print(\"=====================================\")\n",
    "    print(\"\\nUnique values per column:\")\n",
    "    print(\"=====================================\")\n",
    "    print(df.nunique())\n",
    "    "
   ]
  },
  {
   "cell_type": "code",
   "execution_count": 27,
   "metadata": {},
   "outputs": [],
   "source": [
    "info = df[2].isnull().sum()"
   ]
  },
  {
   "cell_type": "code",
   "execution_count": 29,
   "metadata": {},
   "outputs": [
    {
     "data": {
      "text/plain": [
       "pandas.core.series.Series"
      ]
     },
     "execution_count": 29,
     "metadata": {},
     "output_type": "execute_result"
    }
   ],
   "source": [
    "type(info)"
   ]
  },
  {
   "cell_type": "code",
   "execution_count": null,
   "metadata": {},
   "outputs": [],
   "source": []
  }
 ],
 "metadata": {
  "kernelspec": {
   "display_name": "env",
   "language": "python",
   "name": "python3"
  },
  "language_info": {
   "codemirror_mode": {
    "name": "ipython",
    "version": 3
   },
   "file_extension": ".py",
   "mimetype": "text/x-python",
   "name": "python",
   "nbconvert_exporter": "python",
   "pygments_lexer": "ipython3",
   "version": "3.12.5"
  }
 },
 "nbformat": 4,
 "nbformat_minor": 2
}
