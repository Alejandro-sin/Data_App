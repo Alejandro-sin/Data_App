{
 "cells": [
  {
   "cell_type": "markdown",
   "metadata": {},
   "source": [
    "# Procesamiento"
   ]
  },
  {
   "cell_type": "code",
   "execution_count": 2,
   "metadata": {},
   "outputs": [],
   "source": [
    "import pandas as pd\n",
    "from preprocess import impute_and_clean"
   ]
  },
  {
   "cell_type": "markdown",
   "metadata": {},
   "source": [
    "### Read data"
   ]
  },
  {
   "cell_type": "code",
   "execution_count": 3,
   "metadata": {},
   "outputs": [
    {
     "data": {
      "text/html": [
       "<div>\n",
       "<style scoped>\n",
       "    .dataframe tbody tr th:only-of-type {\n",
       "        vertical-align: middle;\n",
       "    }\n",
       "\n",
       "    .dataframe tbody tr th {\n",
       "        vertical-align: top;\n",
       "    }\n",
       "\n",
       "    .dataframe thead th {\n",
       "        text-align: right;\n",
       "    }\n",
       "</style>\n",
       "<table border=\"1\" class=\"dataframe\">\n",
       "  <thead>\n",
       "    <tr style=\"text-align: right;\">\n",
       "      <th></th>\n",
       "      <th>employee_id</th>\n",
       "      <th>name</th>\n",
       "      <th>datetime</th>\n",
       "      <th>department_id</th>\n",
       "      <th>job_id</th>\n",
       "    </tr>\n",
       "  </thead>\n",
       "  <tbody>\n",
       "    <tr>\n",
       "      <th>0</th>\n",
       "      <td>1</td>\n",
       "      <td>Harold Vogt</td>\n",
       "      <td>2021-11-07T02:48:42Z</td>\n",
       "      <td>2.0</td>\n",
       "      <td>96.0</td>\n",
       "    </tr>\n",
       "    <tr>\n",
       "      <th>1</th>\n",
       "      <td>2</td>\n",
       "      <td>Ty Hofer</td>\n",
       "      <td>2021-05-30T05:43:46Z</td>\n",
       "      <td>8.0</td>\n",
       "      <td>NaN</td>\n",
       "    </tr>\n",
       "    <tr>\n",
       "      <th>2</th>\n",
       "      <td>3</td>\n",
       "      <td>Lyman Hadye</td>\n",
       "      <td>2021-09-01T23:27:38Z</td>\n",
       "      <td>5.0</td>\n",
       "      <td>52.0</td>\n",
       "    </tr>\n",
       "    <tr>\n",
       "      <th>3</th>\n",
       "      <td>4</td>\n",
       "      <td>Lotti Crowthe</td>\n",
       "      <td>2021-10-01T13:04:21Z</td>\n",
       "      <td>12.0</td>\n",
       "      <td>71.0</td>\n",
       "    </tr>\n",
       "    <tr>\n",
       "      <th>4</th>\n",
       "      <td>5</td>\n",
       "      <td>Gretna Lording</td>\n",
       "      <td>2021-10-10T22:22:17Z</td>\n",
       "      <td>6.0</td>\n",
       "      <td>80.0</td>\n",
       "    </tr>\n",
       "    <tr>\n",
       "      <th>...</th>\n",
       "      <td>...</td>\n",
       "      <td>...</td>\n",
       "      <td>...</td>\n",
       "      <td>...</td>\n",
       "      <td>...</td>\n",
       "    </tr>\n",
       "    <tr>\n",
       "      <th>1994</th>\n",
       "      <td>1995</td>\n",
       "      <td>Goran Yong</td>\n",
       "      <td>2021-08-22T21:57:53Z</td>\n",
       "      <td>2.0</td>\n",
       "      <td>83.0</td>\n",
       "    </tr>\n",
       "    <tr>\n",
       "      <th>1995</th>\n",
       "      <td>1996</td>\n",
       "      <td>Cirstoforo Youings</td>\n",
       "      <td>2021-04-01T17:48:42Z</td>\n",
       "      <td>3.0</td>\n",
       "      <td>23.0</td>\n",
       "    </tr>\n",
       "    <tr>\n",
       "      <th>1996</th>\n",
       "      <td>1997</td>\n",
       "      <td>Wilek Yurkevich</td>\n",
       "      <td>2021-05-04T12:19:50Z</td>\n",
       "      <td>2.0</td>\n",
       "      <td>132.0</td>\n",
       "    </tr>\n",
       "    <tr>\n",
       "      <th>1997</th>\n",
       "      <td>1998</td>\n",
       "      <td>Jerry Yven</td>\n",
       "      <td>2021-10-03T14:12:50Z</td>\n",
       "      <td>7.0</td>\n",
       "      <td>100.0</td>\n",
       "    </tr>\n",
       "    <tr>\n",
       "      <th>1998</th>\n",
       "      <td>1999</td>\n",
       "      <td>Jerri Zebedee</td>\n",
       "      <td>2022-01-18T10:47:37Z</td>\n",
       "      <td>8.0</td>\n",
       "      <td>80.0</td>\n",
       "    </tr>\n",
       "  </tbody>\n",
       "</table>\n",
       "<p>1999 rows × 5 columns</p>\n",
       "</div>"
      ],
      "text/plain": [
       "      employee_id                name              datetime  department_id  \\\n",
       "0               1         Harold Vogt  2021-11-07T02:48:42Z            2.0   \n",
       "1               2            Ty Hofer  2021-05-30T05:43:46Z            8.0   \n",
       "2               3         Lyman Hadye  2021-09-01T23:27:38Z            5.0   \n",
       "3               4       Lotti Crowthe  2021-10-01T13:04:21Z           12.0   \n",
       "4               5      Gretna Lording  2021-10-10T22:22:17Z            6.0   \n",
       "...           ...                 ...                   ...            ...   \n",
       "1994         1995          Goran Yong  2021-08-22T21:57:53Z            2.0   \n",
       "1995         1996  Cirstoforo Youings  2021-04-01T17:48:42Z            3.0   \n",
       "1996         1997     Wilek Yurkevich  2021-05-04T12:19:50Z            2.0   \n",
       "1997         1998          Jerry Yven  2021-10-03T14:12:50Z            7.0   \n",
       "1998         1999       Jerri Zebedee  2022-01-18T10:47:37Z            8.0   \n",
       "\n",
       "      job_id  \n",
       "0       96.0  \n",
       "1        NaN  \n",
       "2       52.0  \n",
       "3       71.0  \n",
       "4       80.0  \n",
       "...      ...  \n",
       "1994    83.0  \n",
       "1995    23.0  \n",
       "1996   132.0  \n",
       "1997   100.0  \n",
       "1998    80.0  \n",
       "\n",
       "[1999 rows x 5 columns]"
      ]
     },
     "execution_count": 3,
     "metadata": {},
     "output_type": "execute_result"
    }
   ],
   "source": [
    "df_employees= pd.read_csv(\"../../data/bronce/hired_employees.csv\")\n",
    "df_employees"
   ]
  },
  {
   "cell_type": "code",
   "execution_count": 5,
   "metadata": {},
   "outputs": [
    {
     "data": {
      "text/plain": [
       "Index(['employee_id', 'name', 'datetime', 'department_id', 'job_id'], dtype='object')"
      ]
     },
     "execution_count": 5,
     "metadata": {},
     "output_type": "execute_result"
    }
   ],
   "source": [
    "df_employees.columns\n"
   ]
  },
  {
   "cell_type": "markdown",
   "metadata": {},
   "source": [
    "### Fast EDA\n",
    "\n",
    "- Verificación rápida para saber si antes y después nos encontramos con valores nulos."
   ]
  },
  {
   "cell_type": "markdown",
   "metadata": {},
   "source": [
    "#### Employees df"
   ]
  },
  {
   "cell_type": "code",
   "execution_count": 6,
   "metadata": {},
   "outputs": [
    {
     "data": {
      "text/plain": [
       "employee_id       0\n",
       "name             19\n",
       "datetime         14\n",
       "department_id    21\n",
       "job_id           16\n",
       "dtype: int64"
      ]
     },
     "execution_count": 6,
     "metadata": {},
     "output_type": "execute_result"
    }
   ],
   "source": [
    "df_employees.isnull().sum()"
   ]
  },
  {
   "cell_type": "code",
   "execution_count": 7,
   "metadata": {},
   "outputs": [],
   "source": [
    "fecha_dummy = pd.to_datetime('2000-01-01')\n",
    "df_employees_1 = impute_and_clean(df_employees, nan_threshold=0.5)\n",
    "df_hired_employees_c = df_employees_1.fillna(fecha_dummy)\n"
   ]
  },
  {
   "cell_type": "code",
   "execution_count": 8,
   "metadata": {},
   "outputs": [
    {
     "data": {
      "text/plain": [
       "employee_id      0\n",
       "name             0\n",
       "datetime         0\n",
       "department_id    0\n",
       "job_id           0\n",
       "dtype: int64"
      ]
     },
     "execution_count": 8,
     "metadata": {},
     "output_type": "execute_result"
    }
   ],
   "source": [
    "df_hired_employees_c.isnull().sum()\n"
   ]
  },
  {
   "cell_type": "code",
   "execution_count": 9,
   "metadata": {},
   "outputs": [
    {
     "data": {
      "text/plain": [
       "employee_id        int64\n",
       "name              object\n",
       "datetime          object\n",
       "department_id    float64\n",
       "job_id           float64\n",
       "dtype: object"
      ]
     },
     "execution_count": 9,
     "metadata": {},
     "output_type": "execute_result"
    }
   ],
   "source": [
    "df_hired_employees_c.dtypes"
   ]
  },
  {
   "cell_type": "code",
   "execution_count": 10,
   "metadata": {},
   "outputs": [
    {
     "name": "stderr",
     "output_type": "stream",
     "text": [
      "C:\\Users\\jefai\\AppData\\Local\\Temp\\ipykernel_9208\\3807299651.py:3: UserWarning: Converting to PeriodArray/Index representation will drop timezone information.\n",
      "  df_hired_employees_c['quarter'] = df_hired_employees_c['datetime'].dt.to_period('Q')\n"
     ]
    },
    {
     "data": {
      "text/html": [
       "<div>\n",
       "<style scoped>\n",
       "    .dataframe tbody tr th:only-of-type {\n",
       "        vertical-align: middle;\n",
       "    }\n",
       "\n",
       "    .dataframe tbody tr th {\n",
       "        vertical-align: top;\n",
       "    }\n",
       "\n",
       "    .dataframe thead th {\n",
       "        text-align: right;\n",
       "    }\n",
       "</style>\n",
       "<table border=\"1\" class=\"dataframe\">\n",
       "  <thead>\n",
       "    <tr style=\"text-align: right;\">\n",
       "      <th></th>\n",
       "      <th>employee_id</th>\n",
       "      <th>name</th>\n",
       "      <th>datetime</th>\n",
       "      <th>department_id</th>\n",
       "      <th>job_id</th>\n",
       "      <th>year</th>\n",
       "      <th>quarter</th>\n",
       "    </tr>\n",
       "  </thead>\n",
       "  <tbody>\n",
       "    <tr>\n",
       "      <th>0</th>\n",
       "      <td>1</td>\n",
       "      <td>Harold Vogt</td>\n",
       "      <td>2021-11-07 02:48:42+00:00</td>\n",
       "      <td>2.0</td>\n",
       "      <td>96.000000</td>\n",
       "      <td>2021.0</td>\n",
       "      <td>2021Q4</td>\n",
       "    </tr>\n",
       "    <tr>\n",
       "      <th>1</th>\n",
       "      <td>2</td>\n",
       "      <td>Ty Hofer</td>\n",
       "      <td>2021-05-30 05:43:46+00:00</td>\n",
       "      <td>8.0</td>\n",
       "      <td>75.431165</td>\n",
       "      <td>2021.0</td>\n",
       "      <td>2021Q2</td>\n",
       "    </tr>\n",
       "    <tr>\n",
       "      <th>2</th>\n",
       "      <td>3</td>\n",
       "      <td>Lyman Hadye</td>\n",
       "      <td>2021-09-01 23:27:38+00:00</td>\n",
       "      <td>5.0</td>\n",
       "      <td>52.000000</td>\n",
       "      <td>2021.0</td>\n",
       "      <td>2021Q3</td>\n",
       "    </tr>\n",
       "    <tr>\n",
       "      <th>3</th>\n",
       "      <td>4</td>\n",
       "      <td>Lotti Crowthe</td>\n",
       "      <td>2021-10-01 13:04:21+00:00</td>\n",
       "      <td>12.0</td>\n",
       "      <td>71.000000</td>\n",
       "      <td>2021.0</td>\n",
       "      <td>2021Q4</td>\n",
       "    </tr>\n",
       "    <tr>\n",
       "      <th>4</th>\n",
       "      <td>5</td>\n",
       "      <td>Gretna Lording</td>\n",
       "      <td>2021-10-10 22:22:17+00:00</td>\n",
       "      <td>6.0</td>\n",
       "      <td>80.000000</td>\n",
       "      <td>2021.0</td>\n",
       "      <td>2021Q4</td>\n",
       "    </tr>\n",
       "    <tr>\n",
       "      <th>...</th>\n",
       "      <td>...</td>\n",
       "      <td>...</td>\n",
       "      <td>...</td>\n",
       "      <td>...</td>\n",
       "      <td>...</td>\n",
       "      <td>...</td>\n",
       "      <td>...</td>\n",
       "    </tr>\n",
       "    <tr>\n",
       "      <th>1994</th>\n",
       "      <td>1995</td>\n",
       "      <td>Goran Yong</td>\n",
       "      <td>2021-08-22 21:57:53+00:00</td>\n",
       "      <td>2.0</td>\n",
       "      <td>83.000000</td>\n",
       "      <td>2021.0</td>\n",
       "      <td>2021Q3</td>\n",
       "    </tr>\n",
       "    <tr>\n",
       "      <th>1995</th>\n",
       "      <td>1996</td>\n",
       "      <td>Cirstoforo Youings</td>\n",
       "      <td>2021-04-01 17:48:42+00:00</td>\n",
       "      <td>3.0</td>\n",
       "      <td>23.000000</td>\n",
       "      <td>2021.0</td>\n",
       "      <td>2021Q2</td>\n",
       "    </tr>\n",
       "    <tr>\n",
       "      <th>1996</th>\n",
       "      <td>1997</td>\n",
       "      <td>Wilek Yurkevich</td>\n",
       "      <td>2021-05-04 12:19:50+00:00</td>\n",
       "      <td>2.0</td>\n",
       "      <td>132.000000</td>\n",
       "      <td>2021.0</td>\n",
       "      <td>2021Q2</td>\n",
       "    </tr>\n",
       "    <tr>\n",
       "      <th>1997</th>\n",
       "      <td>1998</td>\n",
       "      <td>Jerry Yven</td>\n",
       "      <td>2021-10-03 14:12:50+00:00</td>\n",
       "      <td>7.0</td>\n",
       "      <td>100.000000</td>\n",
       "      <td>2021.0</td>\n",
       "      <td>2021Q4</td>\n",
       "    </tr>\n",
       "    <tr>\n",
       "      <th>1998</th>\n",
       "      <td>1999</td>\n",
       "      <td>Jerri Zebedee</td>\n",
       "      <td>2022-01-18 10:47:37+00:00</td>\n",
       "      <td>8.0</td>\n",
       "      <td>80.000000</td>\n",
       "      <td>2022.0</td>\n",
       "      <td>2022Q1</td>\n",
       "    </tr>\n",
       "  </tbody>\n",
       "</table>\n",
       "<p>1999 rows × 7 columns</p>\n",
       "</div>"
      ],
      "text/plain": [
       "      employee_id                name                  datetime  \\\n",
       "0               1         Harold Vogt 2021-11-07 02:48:42+00:00   \n",
       "1               2            Ty Hofer 2021-05-30 05:43:46+00:00   \n",
       "2               3         Lyman Hadye 2021-09-01 23:27:38+00:00   \n",
       "3               4       Lotti Crowthe 2021-10-01 13:04:21+00:00   \n",
       "4               5      Gretna Lording 2021-10-10 22:22:17+00:00   \n",
       "...           ...                 ...                       ...   \n",
       "1994         1995          Goran Yong 2021-08-22 21:57:53+00:00   \n",
       "1995         1996  Cirstoforo Youings 2021-04-01 17:48:42+00:00   \n",
       "1996         1997     Wilek Yurkevich 2021-05-04 12:19:50+00:00   \n",
       "1997         1998          Jerry Yven 2021-10-03 14:12:50+00:00   \n",
       "1998         1999       Jerri Zebedee 2022-01-18 10:47:37+00:00   \n",
       "\n",
       "      department_id      job_id    year quarter  \n",
       "0               2.0   96.000000  2021.0  2021Q4  \n",
       "1               8.0   75.431165  2021.0  2021Q2  \n",
       "2               5.0   52.000000  2021.0  2021Q3  \n",
       "3              12.0   71.000000  2021.0  2021Q4  \n",
       "4               6.0   80.000000  2021.0  2021Q4  \n",
       "...             ...         ...     ...     ...  \n",
       "1994            2.0   83.000000  2021.0  2021Q3  \n",
       "1995            3.0   23.000000  2021.0  2021Q2  \n",
       "1996            2.0  132.000000  2021.0  2021Q2  \n",
       "1997            7.0  100.000000  2021.0  2021Q4  \n",
       "1998            8.0   80.000000  2022.0  2022Q1  \n",
       "\n",
       "[1999 rows x 7 columns]"
      ]
     },
     "execution_count": 10,
     "metadata": {},
     "output_type": "execute_result"
    }
   ],
   "source": [
    "df_hired_employees_c['datetime'] = pd.to_datetime(df_hired_employees_c['datetime'], errors='coerce')\n",
    "df_hired_employees_c['year'] = df_hired_employees_c['datetime'].dt.year\n",
    "df_hired_employees_c['quarter'] = df_hired_employees_c['datetime'].dt.to_period('Q')\n",
    "\n",
    "df_hired_employees_c"
   ]
  },
  {
   "cell_type": "code",
   "execution_count": 11,
   "metadata": {},
   "outputs": [
    {
     "data": {
      "text/html": [
       "<div>\n",
       "<style scoped>\n",
       "    .dataframe tbody tr th:only-of-type {\n",
       "        vertical-align: middle;\n",
       "    }\n",
       "\n",
       "    .dataframe tbody tr th {\n",
       "        vertical-align: top;\n",
       "    }\n",
       "\n",
       "    .dataframe thead th {\n",
       "        text-align: right;\n",
       "    }\n",
       "</style>\n",
       "<table border=\"1\" class=\"dataframe\">\n",
       "  <thead>\n",
       "    <tr style=\"text-align: right;\">\n",
       "      <th></th>\n",
       "      <th>employee_id</th>\n",
       "      <th>name</th>\n",
       "      <th>datetime</th>\n",
       "      <th>department_id</th>\n",
       "      <th>job_id</th>\n",
       "      <th>year</th>\n",
       "      <th>quarter</th>\n",
       "    </tr>\n",
       "  </thead>\n",
       "  <tbody>\n",
       "    <tr>\n",
       "      <th>0</th>\n",
       "      <td>1</td>\n",
       "      <td>Harold Vogt</td>\n",
       "      <td>2021-11-07 02:48:42+00:00</td>\n",
       "      <td>2</td>\n",
       "      <td>96</td>\n",
       "      <td>2021</td>\n",
       "      <td>2021Q4</td>\n",
       "    </tr>\n",
       "    <tr>\n",
       "      <th>1</th>\n",
       "      <td>2</td>\n",
       "      <td>Ty Hofer</td>\n",
       "      <td>2021-05-30 05:43:46+00:00</td>\n",
       "      <td>8</td>\n",
       "      <td>75</td>\n",
       "      <td>2021</td>\n",
       "      <td>2021Q2</td>\n",
       "    </tr>\n",
       "    <tr>\n",
       "      <th>2</th>\n",
       "      <td>3</td>\n",
       "      <td>Lyman Hadye</td>\n",
       "      <td>2021-09-01 23:27:38+00:00</td>\n",
       "      <td>5</td>\n",
       "      <td>52</td>\n",
       "      <td>2021</td>\n",
       "      <td>2021Q3</td>\n",
       "    </tr>\n",
       "    <tr>\n",
       "      <th>3</th>\n",
       "      <td>4</td>\n",
       "      <td>Lotti Crowthe</td>\n",
       "      <td>2021-10-01 13:04:21+00:00</td>\n",
       "      <td>12</td>\n",
       "      <td>71</td>\n",
       "      <td>2021</td>\n",
       "      <td>2021Q4</td>\n",
       "    </tr>\n",
       "    <tr>\n",
       "      <th>4</th>\n",
       "      <td>5</td>\n",
       "      <td>Gretna Lording</td>\n",
       "      <td>2021-10-10 22:22:17+00:00</td>\n",
       "      <td>6</td>\n",
       "      <td>80</td>\n",
       "      <td>2021</td>\n",
       "      <td>2021Q4</td>\n",
       "    </tr>\n",
       "    <tr>\n",
       "      <th>...</th>\n",
       "      <td>...</td>\n",
       "      <td>...</td>\n",
       "      <td>...</td>\n",
       "      <td>...</td>\n",
       "      <td>...</td>\n",
       "      <td>...</td>\n",
       "      <td>...</td>\n",
       "    </tr>\n",
       "    <tr>\n",
       "      <th>1994</th>\n",
       "      <td>1995</td>\n",
       "      <td>Goran Yong</td>\n",
       "      <td>2021-08-22 21:57:53+00:00</td>\n",
       "      <td>2</td>\n",
       "      <td>83</td>\n",
       "      <td>2021</td>\n",
       "      <td>2021Q3</td>\n",
       "    </tr>\n",
       "    <tr>\n",
       "      <th>1995</th>\n",
       "      <td>1996</td>\n",
       "      <td>Cirstoforo Youings</td>\n",
       "      <td>2021-04-01 17:48:42+00:00</td>\n",
       "      <td>3</td>\n",
       "      <td>23</td>\n",
       "      <td>2021</td>\n",
       "      <td>2021Q2</td>\n",
       "    </tr>\n",
       "    <tr>\n",
       "      <th>1996</th>\n",
       "      <td>1997</td>\n",
       "      <td>Wilek Yurkevich</td>\n",
       "      <td>2021-05-04 12:19:50+00:00</td>\n",
       "      <td>2</td>\n",
       "      <td>132</td>\n",
       "      <td>2021</td>\n",
       "      <td>2021Q2</td>\n",
       "    </tr>\n",
       "    <tr>\n",
       "      <th>1997</th>\n",
       "      <td>1998</td>\n",
       "      <td>Jerry Yven</td>\n",
       "      <td>2021-10-03 14:12:50+00:00</td>\n",
       "      <td>7</td>\n",
       "      <td>100</td>\n",
       "      <td>2021</td>\n",
       "      <td>2021Q4</td>\n",
       "    </tr>\n",
       "    <tr>\n",
       "      <th>1998</th>\n",
       "      <td>1999</td>\n",
       "      <td>Jerri Zebedee</td>\n",
       "      <td>2022-01-18 10:47:37+00:00</td>\n",
       "      <td>8</td>\n",
       "      <td>80</td>\n",
       "      <td>2022</td>\n",
       "      <td>2022Q1</td>\n",
       "    </tr>\n",
       "  </tbody>\n",
       "</table>\n",
       "<p>1999 rows × 7 columns</p>\n",
       "</div>"
      ],
      "text/plain": [
       "      employee_id                name                  datetime  \\\n",
       "0               1         Harold Vogt 2021-11-07 02:48:42+00:00   \n",
       "1               2            Ty Hofer 2021-05-30 05:43:46+00:00   \n",
       "2               3         Lyman Hadye 2021-09-01 23:27:38+00:00   \n",
       "3               4       Lotti Crowthe 2021-10-01 13:04:21+00:00   \n",
       "4               5      Gretna Lording 2021-10-10 22:22:17+00:00   \n",
       "...           ...                 ...                       ...   \n",
       "1994         1995          Goran Yong 2021-08-22 21:57:53+00:00   \n",
       "1995         1996  Cirstoforo Youings 2021-04-01 17:48:42+00:00   \n",
       "1996         1997     Wilek Yurkevich 2021-05-04 12:19:50+00:00   \n",
       "1997         1998          Jerry Yven 2021-10-03 14:12:50+00:00   \n",
       "1998         1999       Jerri Zebedee 2022-01-18 10:47:37+00:00   \n",
       "\n",
       "      department_id  job_id  year quarter  \n",
       "0                 2      96  2021  2021Q4  \n",
       "1                 8      75  2021  2021Q2  \n",
       "2                 5      52  2021  2021Q3  \n",
       "3                12      71  2021  2021Q4  \n",
       "4                 6      80  2021  2021Q4  \n",
       "...             ...     ...   ...     ...  \n",
       "1994              2      83  2021  2021Q3  \n",
       "1995              3      23  2021  2021Q2  \n",
       "1996              2     132  2021  2021Q2  \n",
       "1997              7     100  2021  2021Q4  \n",
       "1998              8      80  2022  2022Q1  \n",
       "\n",
       "[1999 rows x 7 columns]"
      ]
     },
     "execution_count": 11,
     "metadata": {},
     "output_type": "execute_result"
    }
   ],
   "source": [
    "df_hired_employees_c['department_id'] = df_hired_employees_c['department_id'].fillna(-1).astype(int)\n",
    "df_hired_employees_c['job_id'] = df_hired_employees_c['job_id'].fillna(-1).astype(int)\n",
    "\n",
    "# Asegurarnos que la columna 'year' también esté en formato entero\n",
    "df_hired_employees_c['year'] = df_hired_employees_c['datetime'].dt.year.fillna(-1).astype(int)\n",
    "df_hired_employees_c"
   ]
  },
  {
   "cell_type": "code",
   "execution_count": null,
   "metadata": {},
   "outputs": [],
   "source": [
    "df_hired_employees_c_hired_2021 = df_hired_employees_c[df_hired_employees_c['year'] == 2021] #Filter"
   ]
  },
  {
   "cell_type": "code",
   "execution_count": null,
   "metadata": {},
   "outputs": [],
   "source": [
    "df_hired_employees_c_hired_2021.dtypes"
   ]
  },
  {
   "cell_type": "markdown",
   "metadata": {},
   "source": [
    "### Persist en Silver"
   ]
  },
  {
   "cell_type": "code",
   "execution_count": null,
   "metadata": {},
   "outputs": [],
   "source": [
    "df_hired_employees_c.to_csv(\"../../data/silver/hired_employees_cleaned.csv\")"
   ]
  },
  {
   "cell_type": "markdown",
   "metadata": {},
   "source": [
    "#### Department df"
   ]
  },
  {
   "cell_type": "code",
   "execution_count": null,
   "metadata": {},
   "outputs": [],
   "source": [
    "df_departments = pd.read_csv(\"../../data/bronce/departments.csv\", names=[\"department_id\",\"department_name\"])\n",
    "df_departments"
   ]
  },
  {
   "cell_type": "code",
   "execution_count": null,
   "metadata": {},
   "outputs": [],
   "source": [
    "df_departments[\"department_name\"].duplicated().sum()\n",
    "df_departments[\"department_id\"].duplicated().sum()"
   ]
  },
  {
   "cell_type": "code",
   "execution_count": null,
   "metadata": {},
   "outputs": [],
   "source": [
    "df_departments[\"department_name\"].isnull().sum()\n",
    "df_departments[\"department_id\"].isnull().sum()"
   ]
  },
  {
   "cell_type": "markdown",
   "metadata": {},
   "source": [
    "#### Job df"
   ]
  },
  {
   "cell_type": "code",
   "execution_count": null,
   "metadata": {},
   "outputs": [],
   "source": [
    "df_job = pd.read_csv(\"../../data/bronce/jobs.csv\", names=[\"job_id\",\"job_name\"])\n",
    "df_job"
   ]
  },
  {
   "cell_type": "code",
   "execution_count": null,
   "metadata": {},
   "outputs": [],
   "source": [
    "df_job[\"job_name\"].duplicated().sum()"
   ]
  },
  {
   "cell_type": "code",
   "execution_count": null,
   "metadata": {},
   "outputs": [],
   "source": [
    "df_job[\"job_id\"].duplicated().sum()"
   ]
  },
  {
   "cell_type": "code",
   "execution_count": null,
   "metadata": {},
   "outputs": [],
   "source": [
    "df_job[\"job_name\"].isnull().sum()"
   ]
  },
  {
   "cell_type": "markdown",
   "metadata": {},
   "source": [
    "## Preguntas de negocio\n",
    "\n",
    "1. *\" Number of employees hired for each job and department in 2021 divided by quarter. The table must be ordered alphabetically by department and job.\"*\n",
    "\n",
    "- Filtrar por año\n",
    "- Joinear con jobs y departments\n",
    "- Agrupar por departamento, nombre y quarter.\n",
    "- Ordenar alfabeticamente\n",
    "\n"
   ]
  },
  {
   "cell_type": "code",
   "execution_count": null,
   "metadata": {},
   "outputs": [],
   "source": [
    "jobs_df = pd.read_csv(\"../../data/silver/cleaned_jobs.csv\")\n",
    "departments_df = pd.read_csv(\"../../data/silver/cleaned_departments.csv\")"
   ]
  },
  {
   "cell_type": "code",
   "execution_count": null,
   "metadata": {},
   "outputs": [],
   "source": [
    "# Conteo de empleados agrupados por trabajo y departamento en el año 2021, y agrupado también por quarter. Tabla ordenada alfabeticamente.\n",
    "df_hired_employees_c_filtered = df_hired_employees_c[df_hired_employees_c[\"datetime\"].dt.year == 2021]\n",
    "\n",
    "# join con job\n",
    "merged_df = pd.merge(df_hired_employees_c_filtered, jobs_df, on=\"job_id\")\n",
    "\n",
    "# join con departments\n",
    "merged_df = pd.merge(merged_df, departments_df, on=\"department_id\")\n",
    "\n",
    "# Group by department, job, and quarter and count the number of employees hired\n",
    "result = merged_df.groupby(['department_name', 'job_name', 'quarter']).size().reset_index(name='num_employees_hired')\n",
    "result_df = result.sort_values(by=['department_name', 'job_name', 'quarter'])\n",
    "result_df\n"
   ]
  },
  {
   "cell_type": "markdown",
   "metadata": {},
   "source": [
    "2. *\"List of ids, name and number of employees hired of each department that hired more employees than the mean of employees hired in 2021 for all the departments, ordered by the number of employees hired (descending)\"*\n",
    "\n",
    "\n",
    "- Filtrar por 2021\n",
    "- Agrupar por department_id y contar\n",
    "- Calcular la media de empleados conctratador\n",
    "- Filtrar departamentos con más contrataciones que el promedio de contrataciones\n",
    "- Merge con departments para traer cuales son esos departamentos\n",
    "- Ordenar alfabéticamente\n"
   ]
  },
  {
   "cell_type": "code",
   "execution_count": null,
   "metadata": {},
   "outputs": [],
   "source": [
    "# Reutilizo el df anterior\n",
    "df_hired_employees_grouped =  df_hired_employees_c_filtered.groupby(by=[\"department_id\"]).size().reset_index(name='num_employees_hired')\n",
    "mean_hired = df_hired_employees_grouped[\"num_employees_hired\"].mean() #scalar\n",
    "departments_df_above_mean = df_hired_employees_grouped[df_hired_employees_grouped[\"num_employees_hired\"]>mean_hired]\n",
    "result = departments_df_above_mean.merge(departments_df, on=\"department_id\")\n",
    "result_df = result[['department_id', 'department_name', 'num_employees_hired']].sort_values(by='num_employees_hired', ascending=False)\n",
    "result_df"
   ]
  },
  {
   "cell_type": "code",
   "execution_count": null,
   "metadata": {},
   "outputs": [],
   "source": []
  }
 ],
 "metadata": {
  "kernelspec": {
   "display_name": "env",
   "language": "python",
   "name": "python3"
  },
  "language_info": {
   "codemirror_mode": {
    "name": "ipython",
    "version": 3
   },
   "file_extension": ".py",
   "mimetype": "text/x-python",
   "name": "python",
   "nbconvert_exporter": "python",
   "pygments_lexer": "ipython3",
   "version": "3.12.5"
  }
 },
 "nbformat": 4,
 "nbformat_minor": 2
}
