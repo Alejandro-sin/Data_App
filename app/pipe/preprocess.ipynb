{
 "cells": [
  {
   "cell_type": "code",
   "execution_count": 1,
   "metadata": {},
   "outputs": [],
   "source": [
    "import pandas as pd\n",
    "from preprocess import impute_and_clean"
   ]
  },
  {
   "cell_type": "code",
   "execution_count": 2,
   "metadata": {},
   "outputs": [
    {
     "data": {
      "text/html": [
       "<div>\n",
       "<style scoped>\n",
       "    .dataframe tbody tr th:only-of-type {\n",
       "        vertical-align: middle;\n",
       "    }\n",
       "\n",
       "    .dataframe tbody tr th {\n",
       "        vertical-align: top;\n",
       "    }\n",
       "\n",
       "    .dataframe thead th {\n",
       "        text-align: right;\n",
       "    }\n",
       "</style>\n",
       "<table border=\"1\" class=\"dataframe\">\n",
       "  <thead>\n",
       "    <tr style=\"text-align: right;\">\n",
       "      <th></th>\n",
       "      <th>name</th>\n",
       "      <th>datetime</th>\n",
       "      <th>department_id</th>\n",
       "      <th>job_id</th>\n",
       "    </tr>\n",
       "    <tr>\n",
       "      <th>id</th>\n",
       "      <th></th>\n",
       "      <th></th>\n",
       "      <th></th>\n",
       "      <th></th>\n",
       "    </tr>\n",
       "  </thead>\n",
       "  <tbody>\n",
       "    <tr>\n",
       "      <th>1</th>\n",
       "      <td>Harold Vogt</td>\n",
       "      <td>2021-11-07T02:48:42Z</td>\n",
       "      <td>2.0</td>\n",
       "      <td>96.0</td>\n",
       "    </tr>\n",
       "    <tr>\n",
       "      <th>2</th>\n",
       "      <td>Ty Hofer</td>\n",
       "      <td>2021-05-30T05:43:46Z</td>\n",
       "      <td>8.0</td>\n",
       "      <td>NaN</td>\n",
       "    </tr>\n",
       "    <tr>\n",
       "      <th>3</th>\n",
       "      <td>Lyman Hadye</td>\n",
       "      <td>2021-09-01T23:27:38Z</td>\n",
       "      <td>5.0</td>\n",
       "      <td>52.0</td>\n",
       "    </tr>\n",
       "    <tr>\n",
       "      <th>4</th>\n",
       "      <td>Lotti Crowthe</td>\n",
       "      <td>2021-10-01T13:04:21Z</td>\n",
       "      <td>12.0</td>\n",
       "      <td>71.0</td>\n",
       "    </tr>\n",
       "    <tr>\n",
       "      <th>5</th>\n",
       "      <td>Gretna Lording</td>\n",
       "      <td>2021-10-10T22:22:17Z</td>\n",
       "      <td>6.0</td>\n",
       "      <td>80.0</td>\n",
       "    </tr>\n",
       "    <tr>\n",
       "      <th>...</th>\n",
       "      <td>...</td>\n",
       "      <td>...</td>\n",
       "      <td>...</td>\n",
       "      <td>...</td>\n",
       "    </tr>\n",
       "    <tr>\n",
       "      <th>1995</th>\n",
       "      <td>Goran Yong</td>\n",
       "      <td>2021-08-22T21:57:53Z</td>\n",
       "      <td>2.0</td>\n",
       "      <td>83.0</td>\n",
       "    </tr>\n",
       "    <tr>\n",
       "      <th>1996</th>\n",
       "      <td>Cirstoforo Youings</td>\n",
       "      <td>2021-04-01T17:48:42Z</td>\n",
       "      <td>3.0</td>\n",
       "      <td>23.0</td>\n",
       "    </tr>\n",
       "    <tr>\n",
       "      <th>1997</th>\n",
       "      <td>Wilek Yurkevich</td>\n",
       "      <td>2021-05-04T12:19:50Z</td>\n",
       "      <td>2.0</td>\n",
       "      <td>132.0</td>\n",
       "    </tr>\n",
       "    <tr>\n",
       "      <th>1998</th>\n",
       "      <td>Jerry Yven</td>\n",
       "      <td>2021-10-03T14:12:50Z</td>\n",
       "      <td>7.0</td>\n",
       "      <td>100.0</td>\n",
       "    </tr>\n",
       "    <tr>\n",
       "      <th>1999</th>\n",
       "      <td>Jerri Zebedee</td>\n",
       "      <td>2022-01-18T10:47:37Z</td>\n",
       "      <td>8.0</td>\n",
       "      <td>80.0</td>\n",
       "    </tr>\n",
       "  </tbody>\n",
       "</table>\n",
       "<p>1999 rows × 4 columns</p>\n",
       "</div>"
      ],
      "text/plain": [
       "                    name              datetime  department_id  job_id\n",
       "id                                                                   \n",
       "1            Harold Vogt  2021-11-07T02:48:42Z            2.0    96.0\n",
       "2               Ty Hofer  2021-05-30T05:43:46Z            8.0     NaN\n",
       "3            Lyman Hadye  2021-09-01T23:27:38Z            5.0    52.0\n",
       "4          Lotti Crowthe  2021-10-01T13:04:21Z           12.0    71.0\n",
       "5         Gretna Lording  2021-10-10T22:22:17Z            6.0    80.0\n",
       "...                  ...                   ...            ...     ...\n",
       "1995          Goran Yong  2021-08-22T21:57:53Z            2.0    83.0\n",
       "1996  Cirstoforo Youings  2021-04-01T17:48:42Z            3.0    23.0\n",
       "1997     Wilek Yurkevich  2021-05-04T12:19:50Z            2.0   132.0\n",
       "1998          Jerry Yven  2021-10-03T14:12:50Z            7.0   100.0\n",
       "1999       Jerri Zebedee  2022-01-18T10:47:37Z            8.0    80.0\n",
       "\n",
       "[1999 rows x 4 columns]"
      ]
     },
     "execution_count": 2,
     "metadata": {},
     "output_type": "execute_result"
    }
   ],
   "source": [
    "# Función para imputar data\n",
    "df_ = pd.read_csv(\"../../data/bronce/hired_employees.csv\", index_col=0)\n",
    "df_"
   ]
  },
  {
   "cell_type": "markdown",
   "metadata": {},
   "source": [
    "Verificación rápida para saber si antes y después nos encontramos con valores nulos"
   ]
  },
  {
   "cell_type": "code",
   "execution_count": 3,
   "metadata": {},
   "outputs": [
    {
     "data": {
      "text/plain": [
       "name             19\n",
       "datetime         14\n",
       "department_id    21\n",
       "job_id           16\n",
       "dtype: int64"
      ]
     },
     "execution_count": 3,
     "metadata": {},
     "output_type": "execute_result"
    }
   ],
   "source": [
    "df_.isnull().sum()"
   ]
  },
  {
   "cell_type": "code",
   "execution_count": 4,
   "metadata": {},
   "outputs": [],
   "source": [
    "cleaned_df = impute_and_clean(df_, nan_threshold=0.5)"
   ]
  },
  {
   "cell_type": "code",
   "execution_count": 5,
   "metadata": {},
   "outputs": [
    {
     "data": {
      "text/plain": [
       "name             0\n",
       "datetime         0\n",
       "department_id    0\n",
       "job_id           0\n",
       "dtype: int64"
      ]
     },
     "execution_count": 5,
     "metadata": {},
     "output_type": "execute_result"
    }
   ],
   "source": [
    "cleaned_df.isnull().sum()"
   ]
  },
  {
   "cell_type": "code",
   "execution_count": 6,
   "metadata": {},
   "outputs": [
    {
     "data": {
      "text/plain": [
       "name              object\n",
       "datetime          object\n",
       "department_id    float64\n",
       "job_id           float64\n",
       "dtype: object"
      ]
     },
     "execution_count": 6,
     "metadata": {},
     "output_type": "execute_result"
    }
   ],
   "source": [
    "cleaned_df.dtypes"
   ]
  },
  {
   "cell_type": "markdown",
   "metadata": {},
   "source": [
    "- Como están en flotantes es mejor castear a enteros, y reemplazar los valores NA por -`1`"
   ]
  },
  {
   "cell_type": "code",
   "execution_count": null,
   "metadata": {},
   "outputs": [],
   "source": [
    "cleaned_df"
   ]
  },
  {
   "cell_type": "code",
   "execution_count": null,
   "metadata": {},
   "outputs": [],
   "source": [
    "cleaned_df['datetime'] = pd.to_datetime(cleaned_df['datetime'], errors='coerce')\n",
    "cleaned_df['year'] = cleaned_df['datetime'].dt.year\n",
    "cleaned_df['quarter'] = cleaned_df['datetime'].dt.to_period('Q')\n",
    "cleaned_df_hired_2021 = cleaned_df[cleaned_df['year'] == 2021]"
   ]
  },
  {
   "cell_type": "code",
   "execution_count": null,
   "metadata": {},
   "outputs": [],
   "source": [
    "cleaned_df['department_id'] = cleaned_df['department_id'].fillna(-1).astype(int)\n",
    "cleaned_df['job_id'] = cleaned_df['job_id'].fillna(-1).astype(int)\n",
    "\n",
    "# Asegurarnos que la columna 'year' también esté en formato entero\n",
    "cleaned_df['year'] = cleaned_df['datetime'].dt.year.fillna(-1).astype(int)"
   ]
  },
  {
   "cell_type": "code",
   "execution_count": null,
   "metadata": {},
   "outputs": [],
   "source": [
    "cleaned_df_hired_2021.dtypes"
   ]
  },
  {
   "cell_type": "code",
   "execution_count": null,
   "metadata": {},
   "outputs": [],
   "source": [
    "cleaned_df"
   ]
  },
  {
   "cell_type": "markdown",
   "metadata": {},
   "source": [
    "### Preguntas de negocio\n",
    "\n",
    "1. \" Number of employees hired for each job and department in 2021 divided by quarter. The table must be ordered alphabetically by department and job.\"\n",
    "\n",
    "2. \"  List of ids, name and number of employees hired of each department that hired more employees than the mean of employees hired in 2021 for all the departments, ordered by the number of employees hired (descending). \""
   ]
  },
  {
   "cell_type": "code",
   "execution_count": null,
   "metadata": {},
   "outputs": [],
   "source": [
    "grouped_df = cleaned_df_hired_2021.groupby(['department_id', 'job_id', 'quarter']).size().reset_index(name='num_employees')\n",
    "grouped_df_sorted = grouped_df.sort_values(by=['department_id', 'job_id', 'quarter'])\n",
    "grouped_df_sorted\n"
   ]
  },
  {
   "cell_type": "code",
   "execution_count": null,
   "metadata": {},
   "outputs": [],
   "source": []
  },
  {
   "cell_type": "code",
   "execution_count": null,
   "metadata": {},
   "outputs": [],
   "source": []
  },
  {
   "cell_type": "code",
   "execution_count": null,
   "metadata": {},
   "outputs": [],
   "source": []
  }
 ],
 "metadata": {
  "kernelspec": {
   "display_name": "env",
   "language": "python",
   "name": "python3"
  },
  "language_info": {
   "codemirror_mode": {
    "name": "ipython",
    "version": 3
   },
   "file_extension": ".py",
   "mimetype": "text/x-python",
   "name": "python",
   "nbconvert_exporter": "python",
   "pygments_lexer": "ipython3",
   "version": "3.12.5"
  }
 },
 "nbformat": 4,
 "nbformat_minor": 2
}
